{
  "nbformat": 4,
  "nbformat_minor": 0,
  "metadata": {
    "colab": {
      "name": "Sentimental.ipynb",
      "provenance": [],
      "authorship_tag": "ABX9TyM+iX8cxkxiS0sOJGdIFMGB",
      "include_colab_link": true
    },
    "kernelspec": {
      "name": "python3",
      "display_name": "Python 3"
    }
  },
  "cells": [
    {
      "cell_type": "markdown",
      "metadata": {
        "id": "view-in-github",
        "colab_type": "text"
      },
      "source": [
        "<a href=\"https://colab.research.google.com/github/laroccathebrux/-DS-SentimentalAnalisys/blob/main/Sentimental.ipynb\" target=\"_parent\"><img src=\"https://colab.research.google.com/assets/colab-badge.svg\" alt=\"Open In Colab\"/></a>"
      ]
    },
    {
      "cell_type": "code",
      "metadata": {
        "id": "Ffo_hp9mWWOK",
        "colab": {
          "base_uri": "https://localhost:8080/"
        },
        "outputId": "e5a30f2d-1a8e-4ae7-d12e-31f284ea3f10"
      },
      "source": [
        "# Import libraries\n",
        "import pandas as pd\n",
        "from bs4 import BeautifulSoup\n",
        "import matplotlib.pyplot as plt\n",
        "from urllib.request import urlopen\n",
        "from urllib.request import Request\n",
        "from nltk.sentiment.vader import SentimentIntensityAnalyzer"
      ],
      "execution_count": 1,
      "outputs": [
        {
          "output_type": "stream",
          "text": [
            "/usr/local/lib/python3.6/dist-packages/nltk/twitter/__init__.py:20: UserWarning: The twython library has not been installed. Some functionality from the twitter package will not be available.\n",
            "  warnings.warn(\"The twython library has not been installed. \"\n"
          ],
          "name": "stderr"
        }
      ]
    },
    {
      "cell_type": "code",
      "metadata": {
        "id": "1xh00PvK5_o6"
      },
      "source": [
        "# Parameters \n",
        "n = 15 #the # of article headlines displayed per ticker\n",
        "tickers = ['AAPL', 'TSLA', 'AMZN', 'PBR', 'VALE']"
      ],
      "execution_count": 2,
      "outputs": []
    },
    {
      "cell_type": "code",
      "metadata": {
        "id": "T961oxZJWlu-",
        "colab": {
          "base_uri": "https://localhost:8080/"
        },
        "outputId": "ce248fcb-1de0-4d35-fc51-454bc957c288"
      },
      "source": [
        "# Get Data\n",
        "finviz_url = 'https://finviz.com/quote.ashx?t='\n",
        "news_tables = {}\n",
        "\n",
        "for ticker in tickers:\n",
        "    url = finviz_url + ticker\n",
        "    req = Request(url=url,headers={'user-agent': 'my-app/0.0.1'}) \n",
        "    resp = urlopen(req)    \n",
        "    html = BeautifulSoup(resp, features=\"lxml\")\n",
        "    news_table = html.find(id='news-table')\n",
        "    news_tables[ticker] = news_table\n",
        "\n",
        "try:\n",
        "    for ticker in tickers:\n",
        "        df = news_tables[ticker]\n",
        "        df_tr = df.findAll('tr')\n",
        "    \n",
        "        print ('\\n')\n",
        "        print ('Recent News Headlines for {}: '.format(ticker))\n",
        "        \n",
        "        for i, table_row in enumerate(df_tr):\n",
        "            a_text = table_row.a.text\n",
        "            td_text = table_row.td.text\n",
        "            td_text = td_text.strip()\n",
        "            print(i, ' - ', a_text,'(',td_text,')')\n",
        "            if i == n-1:\n",
        "                break\n",
        "except KeyError:\n",
        "    pass"
      ],
      "execution_count": 3,
      "outputs": [
        {
          "output_type": "stream",
          "text": [
            "\n",
            "\n",
            "Recent News Headlines for AAPL: \n",
            "0  -  Dow Jones Futures Rally As Biden, Republicans 'Hopeful' For Stimulus Deal; GME Stock Crashes Another 30% ( Feb-02-21 06:29AM )\n",
            "1  -  The Zacks Analyst Blog Highlights: Apple, Ford, Citizens Financial Group, Ally Financial and Capital One Financial ( 05:44AM )\n",
            "2  -  Why This Apple Analyst Thinks A Collaboration With GM, PSA On Electric Vehicles Is Likely ( 03:12AM )\n",
            "3  -  War Of Labels: How Facebook Plans To Tackle Apple's New Privacy Rules ( 01:38AM )\n",
            "4  -  Apple sees blizzard of demand for $14 billion debt deal ( Feb-01-21 07:56PM )\n",
            "5  -  Tech Players Move to Promote Black-Owned Businesses ( 07:02PM )\n",
            "6  -  Apple Sells $14 Billion of Bonds as Share Buybacks Seen Rising ( 05:23PM )\n",
            "7  -  Dow Jones Stocks To Buy And Watch In February 2021: Apple, Microsoft Jump ( 04:34PM )\n",
            "8  -  Dow Jones Rallies 230 Points Amid Biden, GOP Stimulus Talks; Is Silver The New GameStop? ( 04:25PM )\n",
            "9  -  Apple (AAPL), Microsoft (MSFT), Disney (DIS) Are Top Admired Companies ( 03:19PM )\n",
            "10  -  Dow Jones Reclaims 30,000, Led By Surging Microsoft Stock; Alphabet Reclaims Buy Point Ahead Of Q4 Results ( 03:11PM )\n",
            "11  -  These Are The Best Robinhood Stocks To Buy Or Watch Now ( 02:43PM )\n",
            "12  -  Nasdaq Leads Market As Dow Jones Rises After Worst Week Since October; These Long-Term Leaders Near Buy Zones ( 01:45PM )\n",
            "13  -  Dow Rallies As Republicans Offer Biden Stimulus Bargain; Microsoft Surges As GameStop Collapses ( 12:17PM )\n",
            "14  -  Facebook rolls out iPhone message amid Apple privacy row ( 12:01PM )\n",
            "\n",
            "\n",
            "Recent News Headlines for TSLA: \n",
            "0  -  Dow Jones Futures Rally As Biden, Republicans 'Hopeful' For Stimulus Deal; GME Stock Crashes Another 30% ( Feb-02-21 06:29AM )\n",
            "1  -  Elon Musk says he is off Twitter for a while amid GameStop controversy and SpaceX launches ( 04:14AM )\n",
            "2  -  Koreans Buy Tesla, GameStop as Foreign Stock Buying Hits Record ( 02:21AM )\n",
            "3  -  Highlights: Security Robots of the Future and Investing in MaaS with Knightscope CEO William Santana Li ( Feb-01-21 07:22PM )\n",
            "4  -  Report: Tesla Could Receive Over $1.2 Billion in Subsidies From Germany for Battery Plant ( 06:30PM )\n",
            "5  -  Elon Musk grills Robinhood CEO on Clubhouse app ( 05:16PM )\n",
            "6  -  Is Nio Stock A Buy As Electric Vehicle Sales Surge In New Year? ( 04:53PM )\n",
            "7  -  Nio, Xpeng Sales Soar To Start 2021 After 2020 Boom; Li Auto Due ( 04:50PM )\n",
            "8  -  Dow Jones Rallies 230 Points Amid Biden, GOP Stimulus Talks; Is Silver The New GameStop? ( 04:25PM )\n",
            "9  -  Largest Oil Merger Ever Would Still Be A Fraction Of Tesla's Value ( 04:24PM )\n",
            "10  -  Nasdaq Surges, Volatility Falls Following a Wild Week on Wall Street ( 04:24PM )\n",
            "11  -  Tesla Gets Lofty $1,200 Price Target as Fireworks Not Over ( 04:19PM )\n",
            "12  -  Here's What The World's Richest Person Thinks About Bitcoin ( 04:13PM )\n",
            "13  -  Tesla Gets A Street High $1,200 Price Target: 'The Fireworks Aren't Over Yet' ( 01:40PM )\n",
            "14  -  Why Tesla Stock Jumped on Monday ( 01:38PM )\n",
            "\n",
            "\n",
            "Recent News Headlines for AMZN: \n",
            "0  -  Investors Take Note: These Are the Biggest Challenges Facing Healthcare Disruptors ( Feb-02-21 06:00AM )\n",
            "1  -  Silver Surges 9% as Commodities Rally, and Two More Numbers to Know ( 05:00AM )\n",
            "2  -  5 Top Stocks for February ( 02:00AM )\n",
            "3  -  The 3 Most Important Earnings Reports in February ( 12:34AM )\n",
            "4  -  Alibaba, Amazon, Google, GameStop and Silver - 5 Things You Must Know Tuesday ( 12:15AM )\n",
            "5  -  3 Recession-Proof Stocks to Buy Right Now ( Feb-01-21 09:03PM )\n",
            "6  -  3 Hot Stocks That Led Stock Markets Higher Monday ( 05:54PM )\n",
            "7  -  Stock Market Today: Big Tech Leads Another Snap-Back Rally ( 04:45PM )\n",
            "8  -  Here's What The World's Richest Person Thinks About Bitcoin ( 04:13PM )\n",
            "9  -  These 3 E-Commerce Stock Winners Are Sending the Nasdaq Higher Monday ( 04:11PM )\n",
            "10  -  3 Stocks with Promise as Ecommerce Growth Drops Off in 2021 ( 03:27PM )\n",
            "11  -  Dow Jones Reclaims 30,000, Led By Surging Microsoft Stock; Alphabet Reclaims Buy Point Ahead Of Q4 Results ( 03:11PM )\n",
            "12  -  Amazon backing push to raise federal minimum wage to $15/hr ( 02:26PM )\n",
            "13  -  Online Retail Sales Provide Strong Tailwinds For Amazon ( 01:52PM )\n",
            "14  -  Time for more record earnings reports from Big Tech, led by Amazons first $100 billion quarter ( 01:11PM )\n",
            "\n",
            "\n",
            "Recent News Headlines for PBR: \n",
            "0  -  Brazil's Eneva in direct talks for Petrobras' Urucu cluster, online newspaper says ( Feb-01-21 01:18PM )\n",
            "1  -  Guara Norte S.a r.l. -- Moody's assigns Ba1 to Guara Norte's $850 million notes ( 05:55AM )\n",
            "2  -  Brazil unlikely to see major truckers strike, union official says ( Jan-29-21 04:01PM )\n",
            "3  -  Brazil's Petrobras CEO says truckers' diesel demands not the company's problem ( Jan-28-21 08:57AM )\n",
            "4  -  Exclusive-Samsung, Hyundai, Daewoo prepare for Petrobras oil platform tender: sources ( 12:10AM )\n",
            "5  -  Brazil's Bolsonaro urges truckers not to strike, eyes tax breaks ( Jan-27-21 01:14PM )\n",
            "6  -  Is Brazil A Threat To OPEC? ( 11:30AM )\n",
            "7  -  ALVOF: Alvopetro Energy - Monthly Production Increasing from the Caburé Natural Gas Project ( Jan-19-21 05:10AM )\n",
            "8  -  Petrobras (PBR) to Sell Its Stakes in 3 Mangue Seco Wind Farms ( Jan-14-21 12:07PM )\n",
            "9  -  The Zacks Analyst Blog Highlights: Kinder Morgan, Apache Corp, Whiting Petroleum, Oceaneering International and Petrobras ( 12:04PM )\n",
            "10  -  15 Biggest Oil Refining Companies in the World ( 04:32AM )\n",
            "11  -  EMERGING MARKETS-Latam FX subdued as dollar strengthens; Chilean peso tumbles ( Jan-13-21 02:18PM )\n",
            "12  -  EMERGING MARKETS-Latam FX subdued as dollar strengthens; Chilean peso tumbles ( 09:39AM )\n",
            "13  -  Brazil's Petrobras CEO denies claims of 'predatory' fuel pricing policy ( 07:08AM )\n",
            "14  -  Oil & Gas Stock Roundup: Kinder Morgan's Milestone, Apache's Restructuring & More ( 06:56AM )\n",
            "\n",
            "\n",
            "Recent News Headlines for VALE: \n",
            "0  -  Shaky Iron Market Turns to Vale for Final Piece of Supply Puzzle ( Feb-01-21 03:01PM )\n",
            "1  -  Zacks.com featured highlights include: Vale, Canadian Solar, Alexion Pharmaceuticals and Affiliated Managers Group ( 06:22AM )\n",
            "2  -  VALE S.A. (VALE) Outpaces Stock Market Gains: What You Should Know ( Jan-28-21 05:50PM )\n",
            "3  -  Exclusive: Brazil's Vale, state government $2 billion apart on disaster settlement, source says ( Jan-22-21 03:54PM )\n",
            "4  -  Zacks.com featured highlights include: NetApp, Vale, Keysight, Lowe's and T. Rowe Price Group ( 06:14AM )\n",
            "5  -  VALE S.A. (VALE) Outpaces Stock Market Gains: What You Should Know ( Jan-21-21 05:50PM )\n",
            "6  -  Vale and Brazil state do not reach agreement for reparations over deadly dam disaster ( 02:36PM )\n",
            "7  -  Do Options Traders Know Something About Vale (VALE) Stock We Don't? ( Jan-15-21 08:48AM )\n",
            "8  -  Is VALE (VALE) Outperforming Other Basic Materials Stocks This Year? ( Jan-14-21 11:30AM )\n",
            "9  -  Brazil ETFs Poised to Move Higher in 2021 ( Jan-13-21 09:04AM )\n",
            "10  -  Here's Why VALE S.A. (VALE) is a Great Momentum Stock to Buy ( Jan-12-21 12:00PM )\n",
            "11  -  Zacks.com featured highlights include: NetApp, Vale, KLA and East West Bancorp ( Jan-07-21 08:10AM )\n",
            "12  -  15 Biggest Companies That Arent Profitable ( 04:46AM )\n",
            "13  -  Add These 4 GARP Stocks to Your Portfolio for Maximum Returns ( Jan-06-21 09:31AM )\n",
            "14  -  4 Relative Price Strength Stocks to Make You Rich in 2021 ( Jan-05-21 07:41AM )\n"
          ],
          "name": "stdout"
        }
      ]
    },
    {
      "cell_type": "code",
      "metadata": {
        "id": "UIK19sLYWvMF"
      },
      "source": [
        "# Iterate through the news\n",
        "parsed_news = []\n",
        "for file_name, news_table in news_tables.items():\n",
        "    for x in news_table.findAll('tr'):\n",
        "        text = x.a.get_text() \n",
        "        date_scrape = x.td.text.split()\n",
        "\n",
        "        if len(date_scrape) == 1:\n",
        "            time = date_scrape[0]\n",
        "            \n",
        "        else:\n",
        "            date = date_scrape[0]\n",
        "            time = date_scrape[1]\n",
        "\n",
        "        ticker = file_name.split('_')[0]\n",
        "        \n",
        "        parsed_news.append([ticker, date, time, text])"
      ],
      "execution_count": 4,
      "outputs": []
    },
    {
      "cell_type": "code",
      "metadata": {
        "id": "znPdg2mgZyPk",
        "colab": {
          "base_uri": "https://localhost:8080/"
        },
        "outputId": "7d6a1eb4-d4b2-4476-830a-07d60757e816"
      },
      "source": [
        "import nltk\n",
        "nltk.download('vader_lexicon')"
      ],
      "execution_count": 5,
      "outputs": [
        {
          "output_type": "stream",
          "text": [
            "[nltk_data] Downloading package vader_lexicon to /root/nltk_data...\n"
          ],
          "name": "stdout"
        },
        {
          "output_type": "execute_result",
          "data": {
            "text/plain": [
              "True"
            ]
          },
          "metadata": {
            "tags": []
          },
          "execution_count": 5
        }
      ]
    },
    {
      "cell_type": "code",
      "metadata": {
        "id": "i3e2GGZIWzaF"
      },
      "source": [
        "# Sentiment Analysis\n",
        "analyzer = SentimentIntensityAnalyzer()\n",
        "\n",
        "columns = ['Ticker', 'Date', 'Time', 'Headline']\n",
        "news = pd.DataFrame(parsed_news, columns=columns)\n",
        "scores = news['Headline'].apply(analyzer.polarity_scores).tolist()\n",
        "\n",
        "df_scores = pd.DataFrame(scores)\n",
        "news = news.join(df_scores, rsuffix='_right')"
      ],
      "execution_count": 6,
      "outputs": []
    },
    {
      "cell_type": "code",
      "metadata": {
        "id": "6XcW4QPoW3iX",
        "colab": {
          "base_uri": "https://localhost:8080/"
        },
        "outputId": "38ff2caf-5df5-4907-f868-adfc9126c949"
      },
      "source": [
        "# View Data \n",
        "news['Date'] = pd.to_datetime(news.Date).dt.date\n",
        "\n",
        "unique_ticker = news['Ticker'].unique().tolist()\n",
        "news_dict = {name: news.loc[news['Ticker'] == name] for name in unique_ticker}\n",
        "\n",
        "values = []\n",
        "for ticker in tickers: \n",
        "    dataframe = news_dict[ticker]\n",
        "    dataframe = dataframe.set_index('Ticker')\n",
        "    dataframe = dataframe.drop(columns = ['Headline'])\n",
        "    print ('\\n')\n",
        "    print (dataframe.head())\n",
        "    \n",
        "    mean = round(dataframe['compound'].mean(), 2)\n",
        "    values.append(mean)\n",
        "    \n",
        "df = pd.DataFrame(list(zip(tickers, values)), columns =['Ticker', 'Mean Sentiment']) \n",
        "df = df.set_index('Ticker')\n",
        "df = df.sort_values('Mean Sentiment', ascending=False)\n",
        "print ('\\n')\n",
        "print (df)"
      ],
      "execution_count": 7,
      "outputs": [
        {
          "output_type": "stream",
          "text": [
            "\n",
            "\n",
            "              Date     Time    neg    neu  pos  compound\n",
            "Ticker                                                  \n",
            "AAPL    2021-02-02  06:29AM  0.000  1.000  0.0    0.0000\n",
            "AAPL    2021-02-02  05:44AM  0.000  1.000  0.0    0.0000\n",
            "AAPL    2021-02-02  03:12AM  0.000  1.000  0.0    0.0000\n",
            "AAPL    2021-02-02  01:38AM  0.262  0.738  0.0   -0.5994\n",
            "AAPL    2021-02-01  07:56PM  0.333  0.667  0.0   -0.4588\n",
            "\n",
            "\n",
            "              Date     Time  neg    neu    pos  compound\n",
            "Ticker                                                  \n",
            "TSLA    2021-02-02  06:29AM  0.0  1.000  0.000      0.00\n",
            "TSLA    2021-02-02  04:14AM  0.0  1.000  0.000      0.00\n",
            "TSLA    2021-02-02  02:21AM  0.0  1.000  0.000      0.00\n",
            "TSLA    2021-02-01  07:22PM  0.0  0.862  0.138      0.34\n",
            "TSLA    2021-02-01  06:30PM  0.0  1.000  0.000      0.00\n",
            "\n",
            "\n",
            "              Date     Time  neg    neu    pos  compound\n",
            "Ticker                                                  \n",
            "AMZN    2021-02-02  06:00AM  0.0  0.885  0.115    0.0772\n",
            "AMZN    2021-02-02  05:00AM  0.0  1.000  0.000    0.0000\n",
            "AMZN    2021-02-02  02:00AM  0.0  0.625  0.375    0.2023\n",
            "AMZN    2021-02-02  12:34AM  0.0  0.741  0.259    0.2716\n",
            "AMZN    2021-02-02  12:15AM  0.0  0.855  0.145    0.1779\n",
            "\n",
            "\n",
            "              Date     Time    neg    neu    pos  compound\n",
            "Ticker                                                    \n",
            "PBR     2021-02-01  01:18PM  0.000  1.000  0.000    0.0000\n",
            "PBR     2021-02-01  05:55AM  0.000  1.000  0.000    0.0000\n",
            "PBR     2021-01-29  04:01PM  0.143  0.857  0.000   -0.1280\n",
            "PBR     2021-01-28  08:57AM  0.000  0.816  0.184    0.3089\n",
            "PBR     2021-01-28  12:10AM  0.000  1.000  0.000    0.0000\n",
            "\n",
            "\n",
            "              Date     Time    neg    neu    pos  compound\n",
            "Ticker                                                    \n",
            "VALE    2021-02-01  03:01PM  0.147  0.853  0.000   -0.2263\n",
            "VALE    2021-02-01  06:22AM  0.000  1.000  0.000    0.0000\n",
            "VALE    2021-01-28  05:50PM  0.000  0.806  0.194    0.3400\n",
            "VALE    2021-01-22  03:54PM  0.247  0.663  0.090   -0.5574\n",
            "VALE    2021-01-22  06:14AM  0.000  1.000  0.000    0.0000\n",
            "\n",
            "\n",
            "        Mean Sentiment\n",
            "Ticker                \n",
            "AMZN              0.15\n",
            "PBR               0.07\n",
            "TSLA              0.04\n",
            "AAPL              0.02\n",
            "VALE              0.01\n"
          ],
          "name": "stdout"
        }
      ]
    }
  ]
}